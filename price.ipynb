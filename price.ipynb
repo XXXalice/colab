{
  "nbformat": 4,
  "nbformat_minor": 0,
  "metadata": {
    "kernelspec": {
      "display_name": "Python 3",
      "language": "python",
      "name": "python3"
    },
    "language_info": {
      "codemirror_mode": {
        "name": "ipython",
        "version": 3
      },
      "file_extension": ".py",
      "mimetype": "text/x-python",
      "name": "python",
      "nbconvert_exporter": "python",
      "pygments_lexer": "ipython3",
      "version": "3.6.8"
    },
    "colab": {
      "name": "price.ipynb",
      "provenance": []
    }
  },
  "cells": [
    {
      "cell_type": "code",
      "metadata": {
        "id": "1iTyDeNKkuHd",
        "colab_type": "code",
        "colab": {}
      },
      "source": [
        "from urllib import request\n",
        "from io import StringIO\n",
        "req = request.Request('https://raw.githubusercontent.com/XXXalice/colab/master/test.csv')\n",
        "with request.urlopen(req) as resp:\n",
        "    test_bytes = resp.read()\n",
        "test = StringIO(str(test_bytes, 'utf-8'))"
      ],
      "execution_count": 0,
      "outputs": []
    },
    {
      "cell_type": "code",
      "metadata": {
        "id": "Z1k5QQ5SqWha",
        "colab_type": "code",
        "colab": {}
      },
      "source": [
        "import pandas as pd\n",
        "test_df = pd.read_csv(test)"
      ],
      "execution_count": 0,
      "outputs": []
    },
    {
      "cell_type": "code",
      "metadata": {
        "id": "3momXgBtkllI",
        "colab_type": "code",
        "colab": {}
      },
      "source": [
        "import random\n",
        "\n",
        "NUM = len(test_df['id'])\n",
        "PRICE_RANGE = [100000000, 30000000000]\n",
        "price = [random.randint(PRICE_RANGE[0], PRICE_RANGE[1]) for i in range(NUM)]"
      ],
      "execution_count": 0,
      "outputs": []
    },
    {
      "cell_type": "code",
      "metadata": {
        "id": "RT5_wKDiuZs9",
        "colab_type": "code",
        "colab": {}
      },
      "source": [
        "outp_df = pd.DataFrame(test_df['id'])\n",
        "outp_df['price'] = price\n",
        "outp_df.to_csv('./price.csv', header=False, index=False)"
      ],
      "execution_count": 0,
      "outputs": []
    },
    {
      "cell_type": "code",
      "metadata": {
        "id": "8sSxP-lNvSX2",
        "colab_type": "code",
        "colab": {}
      },
      "source": [
        "import os\n",
        "os.listdir('.')"
      ],
      "execution_count": 0,
      "outputs": []
    },
    {
      "cell_type": "code",
      "metadata": {
        "id": "fqr-x-2dy9sQ",
        "colab_type": "code",
        "colab": {}
      },
      "source": [
        ""
      ],
      "execution_count": 0,
      "outputs": []
    }
  ]
}